{
 "cells": [
  {
   "cell_type": "code",
   "execution_count": 3,
   "id": "9e0edae5",
   "metadata": {},
   "outputs": [
    {
     "name": "stdout",
     "output_type": "stream",
     "text": [
      "          Timestamp         User  \\\n",
      "0  16.02.2022 00:28     hevennnn   \n",
      "1  16.02.2022 00:28  master_5753   \n",
      "2  16.02.2022 00:28     hevennnn   \n",
      "3  16.02.2022 00:28     hevennnn   \n",
      "4  16.02.2022 00:32     hevennnn   \n",
      "\n",
      "                                             Message  \n",
      "0            Started a call that lasted 376 minutes.  \n",
      "1  {Attachments} https://cdn.discordapp.com/attac...  \n",
      "2             Changed the channel name: Laey Doxxers  \n",
      "3                          Changed the channel icon.  \n",
      "4  https://www.iplocation.net/ip-lookup {Embed} h...  \n"
     ]
    }
   ],
   "source": [
    "import pandas as pd\n",
    "import re\n",
    "\n",
    "# Read the file into a list of lines\n",
    "with open('Group_messages.txt', 'r', encoding='utf-8') as file:\n",
    "    lines = file.readlines()\n",
    "\n",
    "# Initialize lists to store the parsed data\n",
    "timestamps = []\n",
    "users = []\n",
    "messages = []\n",
    "\n",
    "# Regular expression pattern for matching the timestamp and username\n",
    "pattern = r'^\\[(.*?)\\] (.*)$'\n",
    "\n",
    "# Temporary variables to hold the current user and message\n",
    "current_user = None\n",
    "current_message = \"\"\n",
    "\n",
    "# Iterate over the lines and parse them\n",
    "for line in lines:\n",
    "    line = line.strip()\n",
    "    \n",
    "    if line == \"\":  # Skip empty lines\n",
    "        continue\n",
    "    \n",
    "    match = re.match(pattern, line)\n",
    "    \n",
    "    if match:  # If the line starts with a timestamp and username\n",
    "        if current_user is not None:\n",
    "            timestamps.append(current_timestamp)\n",
    "            users.append(current_user)\n",
    "            messages.append(current_message.strip())\n",
    "        \n",
    "        current_timestamp = match.group(1)\n",
    "        current_user = match.group(2)\n",
    "        current_message = \"\"\n",
    "    else:\n",
    "        current_message += line + \" \"  # Continue appending to the current message\n",
    "    \n",
    "# Append the last message\n",
    "if current_user is not None:\n",
    "    timestamps.append(current_timestamp)\n",
    "    users.append(current_user)\n",
    "    messages.append(current_message.strip())\n",
    "\n",
    "# Create a DataFrame from the parsed data\n",
    "df = pd.DataFrame({\n",
    "    'Timestamp': timestamps,\n",
    "    'User': users,\n",
    "    'Message': messages\n",
    "})\n",
    "\n",
    "# Display the DataFrame\n",
    "print(df.head())\n"
   ]
  },
  {
   "cell_type": "code",
   "execution_count": null,
   "id": "9ec2c7b8",
   "metadata": {},
   "outputs": [],
   "source": []
  }
 ],
 "metadata": {
  "kernelspec": {
   "display_name": "Python 3 (ipykernel)",
   "language": "python",
   "name": "python3"
  },
  "language_info": {
   "codemirror_mode": {
    "name": "ipython",
    "version": 3
   },
   "file_extension": ".py",
   "mimetype": "text/x-python",
   "name": "python",
   "nbconvert_exporter": "python",
   "pygments_lexer": "ipython3",
   "version": "3.11.5"
  }
 },
 "nbformat": 4,
 "nbformat_minor": 5
}
